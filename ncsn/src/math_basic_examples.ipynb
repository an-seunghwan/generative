{
 "metadata": {
  "language_info": {
   "codemirror_mode": {
    "name": "ipython",
    "version": 3
   },
   "file_extension": ".py",
   "mimetype": "text/x-python",
   "name": "python",
   "nbconvert_exporter": "python",
   "pygments_lexer": "ipython3",
   "version": "3.7.6"
  },
  "orig_nbformat": 2,
  "kernelspec": {
   "name": "python376jvsc74a57bd0dca0ade3e726a953b501b15e8e990130d2b7799f14cfd9f4271676035ebe5511",
   "display_name": "Python 3.7.6 64-bit ('base': conda)"
  }
 },
 "nbformat": 4,
 "nbformat_minor": 2,
 "cells": [
  {
   "cell_type": "code",
   "execution_count": null,
   "metadata": {},
   "outputs": [],
   "source": [
    "import numpy as np"
   ]
  },
  {
   "cell_type": "code",
   "execution_count": null,
   "metadata": {},
   "outputs": [],
   "source": [
    "'''\n",
    "1. 선형대수\n",
    "1.1. Vector and Matrix\n",
    "'''\n",
    "\n",
    "'''행렬 곱 (b)'''\n",
    "np.random.seed(1)\n",
    "n = 4\n",
    "p = 3\n",
    "m = 5\n",
    "A = np.random.normal(size=(n, p))\n",
    "B = np.random.normal(size=(p, m))\n",
    "print(A @ B)\n",
    "print('\\n')\n",
    "print('shape:', (A @ B).shape)"
   ]
  },
  {
   "cell_type": "code",
   "execution_count": null,
   "metadata": {},
   "outputs": [],
   "source": [
    "'''행렬 전치 (c)'''\n",
    "np.random.seed(1)\n",
    "n = 4\n",
    "p = 3\n",
    "m = 5\n",
    "A = np.random.normal(size=(n, p))\n",
    "B = np.random.normal(size=(p, m))\n",
    "print((A @ B).T)\n",
    "print('\\n')\n",
    "print(B.T @ A.T)\n",
    "print('\\n')\n",
    "print(((A @ B).T == B.T @ A.T).all())"
   ]
  },
  {
   "cell_type": "code",
   "execution_count": null,
   "metadata": {},
   "outputs": [],
   "source": [
    "'''대각합 (b)'''\n",
    "np.random.seed(1)\n",
    "n = 4\n",
    "p = 3\n",
    "A = np.random.normal(size=(n, p))\n",
    "B = np.random.normal(size=(p, n))\n",
    "print(np.sum(np.diag(A @ B)))\n",
    "print('\\n')\n",
    "print(np.sum(np.diag(B @ A)))"
   ]
  },
  {
   "cell_type": "code",
   "execution_count": null,
   "metadata": {},
   "outputs": [],
   "source": [
    "np.random.seed(1)\n",
    "n = 4\n",
    "p = 3\n",
    "A = np.random.normal(size=(n, p))\n",
    "B = np.random.normal(size=(n, p))\n",
    "print(np.sum(np.diag(A + B)))\n",
    "print('\\n')\n",
    "print(np.sum(np.diag(A)) + np.sum(np.diag(B)))"
   ]
  },
  {
   "cell_type": "code",
   "execution_count": null,
   "metadata": {},
   "outputs": [],
   "source": [
    "'''역행렬 (b)'''\n",
    "np.random.seed(1)\n",
    "p = 4\n",
    "A = np.random.uniform(low=0.5, high=1.5, size=(p, p))\n",
    "B = np.random.uniform(low=0.5, high=1.5, size=(p, p))\n",
    "print(np.linalg.inv(A @ B))\n",
    "print('\\n')\n",
    "print(np.linalg.inv(B) @ np.linalg.inv(A))"
   ]
  },
  {
   "cell_type": "code",
   "execution_count": null,
   "metadata": {},
   "outputs": [],
   "source": [
    "print(np.linalg.inv(A.T))\n",
    "print('\\n')\n",
    "print(np.linalg.inv(A).T)"
   ]
  },
  {
   "cell_type": "code",
   "execution_count": null,
   "metadata": {},
   "outputs": [],
   "source": [
    "'''\n",
    "1.2. Linear space\n",
    "'''\n",
    "\n",
    "'''선형 변환 (b)'''\n",
    "x = np.array([[1], \n",
    "              [2], \n",
    "              [3]])\n",
    "E_pi = np.array([[0, 0, 1], \n",
    "                 [1, 0, 0],\n",
    "                 [0, 1, 0]])\n",
    "print(E_pi @ x)"
   ]
  },
  {
   "cell_type": "code",
   "execution_count": null,
   "metadata": {},
   "outputs": [],
   "source": [
    "'''내적 (c)'''\n",
    "np.random.seed(1)\n",
    "p = 4\n",
    "x = np.random.normal(size=(p, 1))\n",
    "y = np.random.normal(size=(p, 1))\n",
    "print('inner product:', x.T @ y)\n",
    "\n",
    "# symmetry\n",
    "print(y.T @ x)\n",
    "\n",
    "# linearity\n",
    "print('\\n')\n",
    "print((3 * y).T @ x)\n",
    "print(3 * (y.T @ x))\n",
    "\n",
    "print('\\n')\n",
    "z = np.random.normal(size=(p, 1))\n",
    "print((x+y).T @ z)\n",
    "print((x.T @ z) + (y.T @ z))"
   ]
  },
  {
   "cell_type": "code",
   "execution_count": null,
   "metadata": {},
   "outputs": [],
   "source": [
    "'''사영 (b)'''\n",
    "np.random.seed(1)\n",
    "X = np.random.normal(size=(n, p))\n",
    "y = np.random.normal(size=(n, 1))\n",
    "H = X @ np.linalg.inv(X.T @ X) @ X.T\n",
    "y_hat = H @ y\n",
    "print((y - y_hat).T @ y_hat)\n",
    "print('orthogonal:', ((y - y_hat).T @ y_hat)[0][0] < 1e-8)"
   ]
  },
  {
   "cell_type": "code",
   "execution_count": null,
   "metadata": {},
   "outputs": [],
   "source": [
    "'''고유값 분해 (c)'''\n",
    "np.random.seed(1)\n",
    "# symmetric matrix\n",
    "p = 3\n",
    "A = np.random.uniform(low=1.5, high=2.5, size=(p, p)) \n",
    "B = A + A.T - np.diag(np.diag(A))\n",
    "print('B:\\n', B)\n",
    "eigvalues, eigvectors = np.linalg.eig(B)\n",
    "print('eigen values:', eigvalues)\n",
    "\n",
    "print('\\n')\n",
    "# inner product\n",
    "print(eigvectors[:, 0].T @ eigvectors[:, 0])\n",
    "print(eigvectors[:, 1].T @ eigvectors[:, 1])\n",
    "print(eigvectors[:, 2].T @ eigvectors[:, 2])\n",
    "\n",
    "print('\\n')\n",
    "print(eigvectors[:, 0].T @ eigvectors[:, 1])\n",
    "print(eigvectors[:, 0].T @ eigvectors[:, 2])\n",
    "print(eigvectors[:, 1].T @ eigvectors[:, 2])\n",
    "\n",
    "print('\\n')\n",
    "B_tmp = np.zeros_like(B)\n",
    "for i in range(p):\n",
    "    B_tmp += eigvalues[i] * (eigvectors[:, [i]] @ eigvectors[:, [i]].T)\n",
    "print('B_tmp:\\n', B_tmp)"
   ]
  },
  {
   "cell_type": "code",
   "execution_count": null,
   "metadata": {},
   "outputs": [],
   "source": [
    "'''특이값 분해 (b)'''\n",
    "np.random.seed(1)\n",
    "n = 5\n",
    "p = 3\n",
    "A = np.random.normal(size=(n, p))\n",
    "U, D, V = np.linalg.svd(A, full_matrices = True)\n",
    "\n",
    "print('A:\\n', A)\n",
    "print('\\n')\n",
    "print('U:\\n', U)\n",
    "print('\\n')\n",
    "print('D:\\n', D)\n",
    "print('\\n')\n",
    "print('V transposed:\\n', V)\n",
    "print('\\n')\n",
    "print('svd:\\n', U[:, :p] @ np.diag(D) @ V) "
   ]
  },
  {
   "cell_type": "code",
   "execution_count": null,
   "metadata": {},
   "outputs": [],
   "source": [
    "'''\n",
    "1.4. Matrix calculus\n",
    "'''\n",
    "\n",
    "'''행렬식 (a)'''\n",
    "np.random.seed(1)\n",
    "p = 4\n",
    "A = np.random.uniform(low=-1.5, high=1.5, size=(p, p)) \n",
    "B = np.random.uniform(low=-1.5, high=1.5, size=(p, p)) \n",
    "\n",
    "# properties\n",
    "print(np.linalg.det(A))\n",
    "print(np.linalg.det(A.T))\n",
    "print('\\n')\n",
    "\n",
    "print(np.linalg.det(2 * A))\n",
    "print((2 ** p) * np.linalg.det(A))\n",
    "print('\\n')\n",
    "\n",
    "print(np.linalg.det(A @ B))\n",
    "print(np.linalg.det(A) * np.linalg.det(B))"
   ]
  },
  {
   "cell_type": "code",
   "execution_count": null,
   "metadata": {},
   "outputs": [],
   "source": [
    "'''QR 분해 (a)'''\n",
    "A = np.array([[1, 0, 1],\n",
    "              [0, -3, 1],\n",
    "              [2, 1, 3]])\n",
    "Q, R = np.linalg.qr(A)\n",
    "print('Q:\\n', Q)\n",
    "print('R:\\n', R)"
   ]
  },
  {
   "cell_type": "code",
   "execution_count": null,
   "metadata": {},
   "outputs": [],
   "source": [
    "'''LU 분해 (a)'''\n",
    "A = np.array([[1, 0, 1],\n",
    "              [0, -3, 1],\n",
    "              [2, 1, 3]])\n",
    "import scipy.linalg   \n",
    "P, L, U = scipy.linalg.lu(A)\n",
    "print('L:\\n', L)\n",
    "print('U:\\n', U)"
   ]
  },
  {
   "cell_type": "code",
   "execution_count": null,
   "metadata": {},
   "outputs": [],
   "source": [
    "# A = np.array([[1, 0, 1],\n",
    "#               [0, -3, 1],\n",
    "#               [2, 1, 3]])\n",
    "# b = np.array([[6], [7], [15]])\n",
    "# print(np.linalg.inv(A) @ b)"
   ]
  },
  {
   "cell_type": "code",
   "execution_count": null,
   "metadata": {},
   "outputs": [],
   "source": [
    "'''촐레스키 분해 (a)'''\n",
    "np.random.seed(1)\n",
    "A = np.random.uniform(low=1.5, high=3.5, size=(3, 3)) + np.diag([1., 1., 1.])\n",
    "L = np.linalg.cholesky(A)\n",
    "print('A:\\n', A)\n",
    "print('L:\\n', L)\n",
    "print('cholesky:\\n', L @ L.T)"
   ]
  },
  {
   "cell_type": "code",
   "execution_count": null,
   "metadata": {},
   "outputs": [],
   "source": [
    "'''\n",
    "2. 제약조건이 없는 문제의 최적화 알고리즘 (Unconstrained problem and optimization)\n",
    "\n",
    "poisson regression model\n",
    "problem: unconstrained minimization of negative log-likelihood\n",
    "\n",
    "y_i ~ Poisson(E(y_i|x_i)) = Poisson(exp(x_i @ beta))\n",
    "'''\n",
    "np.random.seed(1)\n",
    "n = 1000\n",
    "p = 3\n",
    "true_beta = np.array([[1.5], [0.5], [1.0]])\n",
    "print('true beta:\\n', true_beta)\n",
    "\n",
    "X = np.random.normal(loc=0, scale=0.2, size=(n, p-1)) # 상수항 이외의 predictors\n",
    "X = np.hstack((np.ones((n, 1)), X)) # 상수항\n",
    "print('design matrix:\\n', X[:5, :])\n",
    "\n",
    "parm = np.exp(X @ true_beta)\n",
    "print('true poisson parameters\\n', parm[:5, :])\n",
    "\n",
    "y = np.random.poisson(parm) # 모수값을 계산하고 poisson 분포를 이용해 y를 생성\n",
    "print('response variable:\\n', y[:5, :])\n",
    "\n",
    "learning_rate = 0.0001 # eta"
   ]
  },
  {
   "cell_type": "code",
   "execution_count": null,
   "metadata": {},
   "outputs": [],
   "source": [
    "'''1. 경사하강법'''\n",
    "beta = np.array([.5, .5, .5]).reshape((p, 1)) # initial beta\n",
    "# 1차 미분\n",
    "grad = -np.sum(y * X - np.exp(X @ beta) * X, axis=0).reshape((p, 1))\n",
    "print('gradient:\\n', grad)\n",
    "print('shape:', grad.shape)"
   ]
  },
  {
   "cell_type": "code",
   "execution_count": null,
   "metadata": {},
   "outputs": [],
   "source": [
    "beta = np.ones((p, 1)) # initial beta\n",
    "for i in range(500):\n",
    "    grad = -np.sum(y * X - np.exp(X @ beta) * X, axis=0).reshape((p, 1))\n",
    "\n",
    "    # beta update\n",
    "    beta_new = beta - learning_rate * grad\n",
    "    \n",
    "    # stopping rule\n",
    "    if np.sum(np.abs(beta_new - beta)) < 1e-8:\n",
    "        beta = beta_new\n",
    "        print('Iteration {} beta:'.format(i+1))\n",
    "        print(beta, '\\n')\n",
    "        break\n",
    "    else:\n",
    "        beta = beta_new\n",
    "        print('Iteration {} beta:'.format(i+1))\n",
    "        print(beta, '\\n')"
   ]
  },
  {
   "cell_type": "code",
   "execution_count": null,
   "metadata": {},
   "outputs": [],
   "source": [
    "'''2. 뉴튼-랩슨법'''\n",
    "beta = np.array([.5, .5, .5]).reshape((p, 1))\n",
    "\n",
    "D1 = X[:, :, None] @ X[:, None, :]\n",
    "print('shape of D1:', D1.shape)\n",
    "D2 = np.exp(X @ beta)[:, :, None]\n",
    "print('shape of D2:', D2.shape)\n",
    "\n",
    "# 2차 미분\n",
    "print('\\n')\n",
    "Hessian = -np.sum(-D2 * D1, axis=0)\n",
    "print('Hessian:\\n', Hessian)\n",
    "print('shape of Hessian:', Hessian.shape)"
   ]
  },
  {
   "cell_type": "code",
   "execution_count": null,
   "metadata": {},
   "outputs": [],
   "source": [
    "beta = np.ones((p, 1)) # initial beta\n",
    "for i in range(500):\n",
    "    # 1차와 2차 미분 계산\n",
    "    grad = -np.sum(y * X - np.exp(X @ beta) * X, axis=0).reshape((p,1))\n",
    "    \n",
    "    D1 = X[:, :, None] @ X[:, None, :]\n",
    "    D2 = np.exp(X @ beta)[:, :, None]\n",
    "    Hessian = -np.sum(-D2 * D1, axis=0)\n",
    "    \n",
    "    # beta update\n",
    "    beta_new = beta - np.linalg.inv(Hessian) @ grad\n",
    "    \n",
    "    # stopping rule\n",
    "    if np.sum(np.abs(beta_new - beta)) < 1e-8:\n",
    "        beta = beta_new\n",
    "        print('Iteration {} beta:'.format(i+1))\n",
    "        print(beta, '\\n')\n",
    "        break\n",
    "    else:\n",
    "        beta = beta_new\n",
    "        print('Iteration {} beta:'.format(i+1))\n",
    "        print(beta, '\\n')"
   ]
  },
  {
   "cell_type": "code",
   "execution_count": null,
   "metadata": {},
   "outputs": [],
   "source": []
  }
 ]
}